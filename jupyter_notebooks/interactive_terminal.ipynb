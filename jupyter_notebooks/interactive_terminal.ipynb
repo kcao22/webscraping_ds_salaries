{
 "cells": [
  {
   "cell_type": "markdown",
   "metadata": {},
   "source": [
    "Plan of action:\n",
    "\n",
    "1. Import cleaned data\n",
    "2. Train model\n",
    "3. Prompt for user input, load into a Pandas DataFrame\n",
    "4. May have to clean user input data with data preparation\n",
    "5. One hot encode user input\n",
    "6. Feed into model for prediction"
   ]
  },
  {
   "cell_type": "code",
   "execution_count": 4,
   "metadata": {},
   "outputs": [],
   "source": [
    "import pandas as pd\n",
    "import machine_learning\n",
    "from sklearn.ensemble import RandomForestRegressor"
   ]
  },
  {
   "cell_type": "code",
   "execution_count": null,
   "metadata": {},
   "outputs": [],
   "source": [
    "df = pd.read_csv('cleaned_data.csv')\n",
    "columns = ['Rating', 'Company Size', 'Company Type', 'Company Revenue', 'Hourly', 'Employer Provided', 'Glassdoor Estimated', 'Average Salary', 'Job State', 'Company Age', 'Education Demanded', 'Python', 'SQL',\n",
    "'Excel', 'AWS', 'Spark', 'Tableau', 'Scala', 'Big Data',\n",
    "'Data Visualization', 'Description Length', 'Job Level', 'Job Label',\n",
    "'FAANG Or Not', 'Grouped Company Industry']\n",
    "df_model = df[columns]"
   ]
  },
  {
   "cell_type": "code",
   "execution_count": 4,
   "metadata": {},
   "outputs": [
    {
     "name": "stdout",
     "output_type": "stream",
     "text": [
      "Please input job name\n"
     ]
    },
    {
     "data": {
      "text/plain": [
       "''"
      ]
     },
     "execution_count": 4,
     "metadata": {},
     "output_type": "execute_result"
    }
   ],
   "source": [
    "job_name = input('Please input job name: ')\n",
    "job_location = input('Please input job location: ')\n",
    "print('Please paste job description. Ctrl-D or Ctrl-Z to finish: ')\n",
    "contents = []\n",
    "while True:\n",
    "    try:\n",
    "        line = input('')\n",
    "    except EOFError:\n",
    "        break\n",
    "    contents.append(line)\n",
    "job_description = ' '.join([line for line in contents])\n",
    "company_name = input('Please input company name: ')\n",
    "rating = input('Please input company rating out of 5. If unknown, enter -1: ')\n",
    "company_size = int(input('Please select the corresponding number to the company size: \\n1. 1 to 50 Employees \\n2. 51 to 200 Employees \\n3. 201 to 500 Employees \\n4. 501 to 1000 Employees \\n5. 1001 to 5000 Employees \\n5. 5001 to 10000 Employees \\n6. 10000+ Employees \\n7. Unknown' ))\n",
    "year_founded = input('Please input the year the company was founded. If unknown, enter -1: ')\n",
    "company_type = int(input('Please select the corresponding number to the company size: \\n1. Company - Private \\n2. Company - Public \\n3. Other '))\n",
    "company_revenue = int(input('Please select the corresponding number to the company size: \\n1. Less than $1 million (USD) \\n2. $1 to $5 million (USD) \\n3. $5 to $10 million (USD) \\n4. $10 to $25 million (USD) \\n5. $25 to $50 million (USD) \\n5. $50 to $100 million (USD) \\n6. $100 to $500 million (USD) \\n7. $500 million to $1 billion (USD) \\n8. $1 to $2 billion (USD) \\n9. $2 to $5 billion (USD) \\n10. $5 to $10 billion (USD) \\n11. $10+ billion (USD) \\n12. Unknown / Non-Applicable' ))\n",
    "company_industry = -1\n",
    "company_sector = -1\n",
    "\n",
    "# {'1 to 50 Employees',\n",
    "#  '10000+ Employees',\n",
    "#  '1001 to 5000 Employees',\n",
    "#  '201 to 500 Employees',\n",
    "#  '5001 to 10000 Employees',\n",
    "#  '501 to 1000 Employees',\n",
    "#  '51 to 200 Employees',\n",
    "#  'Unknown'}\n",
    "\n",
    "# {'Company - Private', 'Company - Public', 'Other'}\n",
    "\n",
    "\n",
    "#  'Less than $1 million (USD)'\n",
    "#  '$1 to $5 million (USD)',\n",
    "#  '$5 to $10 million (USD)',\n",
    "#  '$10 to $25 million (USD)',\n",
    "#  '$25 to $50 million (USD)',\n",
    "#  '$50 to $100 million (USD)',\n",
    "#  '$100 to $500 million (USD)',\n",
    "#  '$500 million to $1 billion (USD)',\n",
    "#  '$1 to $2 billion (USD)',\n",
    "#  '$2 to $5 billion (USD)',\n",
    "#  '$5 to $10 billion (USD)',\n",
    "#  '$10+ billion (USD)',\n",
    "#  'Unknown / Non-Applicable'"
   ]
  },
  {
   "cell_type": "code",
   "execution_count": null,
   "metadata": {},
   "outputs": [],
   "source": [
    "company_size_dict = {1: '1 to 50 Employees',\n",
    "                     2: '51 to 200 Employees',\n",
    "                     3: '201 to 500 Employees',\n",
    "                     4: '501 to 1000 Employees',\n",
    "                     5: '1001 to 5000 Employees',\n",
    "                     6: '5001 to 10000 Employees',\n",
    "                     7: '10000+ Employees',\n",
    "                     8: 'Unknown'}\n",
    "company_type_dict = {\n",
    "                1: 'Company - Private',\n",
    "                2: 'Company - Public',\n",
    "                3: 'Other'\n",
    "                }\n",
    "company_revenue_dict = {\n",
    "                1: 'Less than $1 million (USD)',\n",
    "                2: '$1 to $5 million (USD)',\n",
    "                3: '$5 to $10 million (USD)',\n",
    "                4: '$10 to $25 million (USD)',\n",
    "                5: '$25 to $50 million (USD)',\n",
    "                6: '$50 to $100 million (USD)',\n",
    "                7: '$100 to $500 million (USD)',\n",
    "                8: '$500 million to $1 billion (USD)',\n",
    "                9: '$2 to $5 billion (USD)',\n",
    "                10: '$5 to $10 billion (USD)',\n",
    "                11: '$10+ billion (USD)',\n",
    "                12: '$1 to $2 billion (USD)',\n",
    "                13: 'Unknown / Non-Applicable'\n",
    "                }"
   ]
  },
  {
   "cell_type": "code",
   "execution_count": 6,
   "metadata": {},
   "outputs": [],
   "source": [
    "job_name = 'Senior Data Scientist'\n",
    "job_description = 'Yes'\n",
    "rating = '4.1'\n",
    "company_name = 'Sage'  \n",
    "job_location = 'San Jose, CA'\n",
    "company_size = '10000+ Employees'\n",
    "year_founded = '1981'\n",
    "company_type = 'Company - Public'\n",
    "company_industry = '-1'\n",
    "company_sector = '-1'\n",
    "company_revenue = '$2 to $5 billion (USD)'"
   ]
  },
  {
   "cell_type": "code",
   "execution_count": 11,
   "metadata": {},
   "outputs": [],
   "source": [
    "cols_pd = ['Job Name', 'Job Description', 'Rating', 'Company Name', 'Job Location', 'Company Size', 'Year Founded', 'Company Type', 'Company Industry', 'Company Sector', 'Company Revenue']\n",
    "values = [[job_name, job_description, rating, company_name, job_location, company_size, year_founded, company_type, company_industry, company_sector, company_revenue]]\n",
    "df_test = pd.DataFrame(values, columns=cols_pd)"
   ]
  },
  {
   "cell_type": "code",
   "execution_count": null,
   "metadata": {},
   "outputs": [],
   "source": [
    "# top_skills = ['Python', 'SQL', 'Excel', 'AWS', 'Spark', 'Tableau', 'Scala', 'Big Data', 'Data Visualization']\n",
    "# for skill in top_skills:\n",
    "#     if skill\n",
    "\n",
    "# KeyError: \"['Hourly', 'Employer Provided', 'Glassdoor Estimated', 'Average Salary'] not in index\"\n",
    "    # how to get this..."
   ]
  },
  {
   "cell_type": "code",
   "execution_count": 12,
   "metadata": {},
   "outputs": [
    {
     "data": {
      "text/html": [
       "<div>\n",
       "<style scoped>\n",
       "    .dataframe tbody tr th:only-of-type {\n",
       "        vertical-align: middle;\n",
       "    }\n",
       "\n",
       "    .dataframe tbody tr th {\n",
       "        vertical-align: top;\n",
       "    }\n",
       "\n",
       "    .dataframe thead th {\n",
       "        text-align: right;\n",
       "    }\n",
       "</style>\n",
       "<table border=\"1\" class=\"dataframe\">\n",
       "  <thead>\n",
       "    <tr style=\"text-align: right;\">\n",
       "      <th></th>\n",
       "      <th>Job Name</th>\n",
       "      <th>Job Description</th>\n",
       "      <th>Rating</th>\n",
       "      <th>Company Name</th>\n",
       "      <th>Job Location</th>\n",
       "      <th>Company Size</th>\n",
       "      <th>Year Founded</th>\n",
       "      <th>Company Type</th>\n",
       "      <th>Company Industry</th>\n",
       "      <th>Company Sector</th>\n",
       "      <th>Company Revenue</th>\n",
       "    </tr>\n",
       "  </thead>\n",
       "  <tbody>\n",
       "    <tr>\n",
       "      <th>0</th>\n",
       "      <td>Senior Data Scientist</td>\n",
       "      <td>Yes</td>\n",
       "      <td>4.1</td>\n",
       "      <td>Sage</td>\n",
       "      <td>San Jose, CA</td>\n",
       "      <td>10000+ Employees</td>\n",
       "      <td>1981</td>\n",
       "      <td>Company - Public</td>\n",
       "      <td>-1</td>\n",
       "      <td>-1</td>\n",
       "      <td>$2 to $5 billion (USD)</td>\n",
       "    </tr>\n",
       "  </tbody>\n",
       "</table>\n",
       "</div>"
      ],
      "text/plain": [
       "                Job Name Job Description Rating Company Name  Job Location  \\\n",
       "0  Senior Data Scientist             Yes    4.1         Sage  San Jose, CA   \n",
       "\n",
       "       Company Size Year Founded      Company Type Company Industry  \\\n",
       "0  10000+ Employees         1981  Company - Public               -1   \n",
       "\n",
       "  Company Sector         Company Revenue  \n",
       "0             -1  $2 to $5 billion (USD)  "
      ]
     },
     "execution_count": 12,
     "metadata": {},
     "output_type": "execute_result"
    }
   ],
   "source": [
    "df_test"
   ]
  },
  {
   "cell_type": "code",
   "execution_count": null,
   "metadata": {},
   "outputs": [],
   "source": [
    "df_cols = {'Job Name': job_name, \n",
    "            'Job Description': job_description, \n",
    "            'Rating': rating,\t\n",
    "            'Company Name': company_name,\t\n",
    "            'Job Location': job_location,\t\n",
    "            'Company Size': company_size,\t\n",
    "            'Year Founded': year_founded,\t\n",
    "            'Company Type': company_type,\t\n",
    "            'Company Industry': company_industry,\t\n",
    "            'Company Sector': company_sector, \n",
    "            'Company Revenue': company_sector\n",
    "            }\n",
    "df_test = pd.DataFrame(df_cols)"
   ]
  },
  {
   "cell_type": "code",
   "execution_count": null,
   "metadata": {},
   "outputs": [],
   "source": [
    "X_train_encoded, X_test_encoded = machine_learning.one_hot_encode_data(df_model.drop(columns=['Average Salary']), df_test)"
   ]
  },
  {
   "cell_type": "code",
   "execution_count": null,
   "metadata": {},
   "outputs": [],
   "source": [
    "rf_model = RandomForestRegressor(max_depth=8, max_features=45, min_samples_leaf=35, min_samples_split=100, n_estimators=165)"
   ]
  },
  {
   "cell_type": "code",
   "execution_count": null,
   "metadata": {},
   "outputs": [],
   "source": [
    "rf_model.fit(X_train_encoded, df_model['Average Salary'])\n",
    "y_pred = round(rf_model.predict(X_test_encoded), 0)"
   ]
  },
  {
   "cell_type": "code",
   "execution_count": null,
   "metadata": {},
   "outputs": [],
   "source": [
    "print('The predicted salary for {job} at {company} is {salary}'.format(job=job_name, company=company_name, salary=y_pred))"
   ]
  },
  {
   "cell_type": "code",
   "execution_count": null,
   "metadata": {},
   "outputs": [],
   "source": [
    "# Job Name\tJob Description\tRating\tCompany Name\tJob Location\tCompany Size\tYear Founded\tCompany Type\tCompany Industry\tCompany Sector\tCompany Revenue\n",
    "\n",
    "# Company Sector is dropped, so just set as default value. These are unused.\n",
    "# Company Industry is grouped later, so just set a default value. These are unused. just use the dictionary keys for that dict as the selection options"
   ]
  },
  {
   "cell_type": "code",
   "execution_count": null,
   "metadata": {},
   "outputs": [],
   "source": [
    "# 60.05425725789362 is the average salary range provided by Glassdoor estimates"
   ]
  },
  {
   "cell_type": "code",
   "execution_count": null,
   "metadata": {},
   "outputs": [],
   "source": [
    "# Do you even need to split data? Now you can just use the whole set minus the average salary column as your training data and then use the input data as a single row of test data to predict on."
   ]
  },
  {
   "cell_type": "code",
   "execution_count": null,
   "metadata": {},
   "outputs": [],
   "source": [
    "# ValueError: X has 15 features, but OneHotEncoder is expecting 9 features as input."
   ]
  },
  {
   "cell_type": "code",
   "execution_count": null,
   "metadata": {},
   "outputs": [],
   "source": []
  }
 ],
 "metadata": {
  "interpreter": {
   "hash": "7275b9e9e1a6f54fdb2e1db809ca4f3c4c62f89c8a86e03d52145ea966ecb8e9"
  },
  "kernelspec": {
   "display_name": "Python 3.9.12 ('web-scraping')",
   "language": "python",
   "name": "python3"
  },
  "language_info": {
   "codemirror_mode": {
    "name": "ipython",
    "version": 3
   },
   "file_extension": ".py",
   "mimetype": "text/x-python",
   "name": "python",
   "nbconvert_exporter": "python",
   "pygments_lexer": "ipython3",
   "version": "3.9.12"
  },
  "orig_nbformat": 4
 },
 "nbformat": 4,
 "nbformat_minor": 2
}
